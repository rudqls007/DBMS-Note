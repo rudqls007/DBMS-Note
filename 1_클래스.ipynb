{
  "nbformat": 4,
  "nbformat_minor": 0,
  "metadata": {
    "colab": {
      "provenance": [],
      "authorship_tag": "ABX9TyO9ymuFrY8aBDSqiR8M2a7O",
      "include_colab_link": true
    },
    "kernelspec": {
      "name": "python3",
      "display_name": "Python 3"
    },
    "language_info": {
      "name": "python"
    }
  },
  "cells": [
    {
      "cell_type": "markdown",
      "metadata": {
        "id": "view-in-github",
        "colab_type": "text"
      },
      "source": [
        "<a href=\"https://colab.research.google.com/github/rudqls007/DBMS-Note/blob/master/1_%ED%81%B4%EB%9E%98%EC%8A%A4.ipynb\" target=\"_parent\"><img src=\"https://colab.research.google.com/assets/colab-badge.svg\" alt=\"Open In Colab\"/></a>"
      ]
    },
    {
      "cell_type": "markdown",
      "source": [
        "### 목표\n",
        "1. 클래스 리뷰"
      ],
      "metadata": {
        "id": "WQloqIJyOnCz"
      }
    },
    {
      "cell_type": "markdown",
      "source": [
        "#### __init__(self)\n",
        "+ 생성자. 클래스 인스턴스가 생성될 때 호출된다.\n",
        "+ self인자는 항상 첫번째에 오며 자기 자신을 가리킨다.\n",
        "+ 이름이 꼭 self일 필요는 없지만, 관례적으로 self로 사용하고있다.\n",
        "\n",
        "+ 생성자에서는 해당 클래스가 다루는 데이터를 정의\n",
        "  - 이 데이터를 멤버변수 (member varialbe) 또는 속성(attribute)라고 한다."
      ],
      "metadata": {
        "id": "DpbPbNPpPUh2"
      }
    },
    {
      "cell_type": "markdown",
      "source": [
        "#### **self**\n",
        "- 파이썬의 method는 항상 첫번째 인자로 self를 전달한다.\n",
        "- self는 현재 해당 메서드가 호출되는 객체 자신을 가리킨다.\n",
        "- C++ / C#, Java의 this에 해당\n",
        "- 이름이 self일 필요는 없으나, 위치는 항상 맨 처음의 parameter이며 관례적으로 self로 사용한다."
      ],
      "metadata": {
        "id": "-EufMVxHQbLY"
      }
    },
    {
      "cell_type": "markdown",
      "source": [
        "#### **special method**\n",
        "- __로 시작 __로 끝나는 특수 함수\n",
        "- 오버라이딩이 가능한 험수 목록은 아래 링크에서 참조\n",
        "  -  https://docs.python.org/3/reference/datamodel.html"
      ],
      "metadata": {
        "id": "ZWDzMNhmRT3a"
      }
    },
    {
      "cell_type": "markdown",
      "source": [
        "### Python Class\n",
        "- Python은 OOP 패러다임으로 구현된 언어이다.\n"
      ],
      "metadata": {
        "id": "afzlu7RSSHyw"
      }
    },
    {
      "cell_type": "markdown",
      "source": [
        "# Notebook이라는 사물을 클래스로 정의합니다."
      ],
      "metadata": {
        "id": "rHMk8tleSncY"
      }
    },
    {
      "cell_type": "code",
      "source": [
        "# Notebook 이라는 사물을 클래스로 정의\n",
        "class Notebook():\n",
        "  def __init__(self, maunfacture, model, cpu, ram, ssd):\n",
        "    self.maunfacture = maunfacture\n",
        "    self.model = model\n",
        "    self.cpu = cpu\n",
        "    self.ram = ram\n",
        "    self.ssd = ssd\n",
        "    "
      ],
      "metadata": {
        "id": "sAi0W7tuSyis"
      },
      "execution_count": 97,
      "outputs": []
    },
    {
      "cell_type": "code",
      "source": [
        "# 클래스의 생성자(constructor)를 불러옴\n",
        "notebook = Notebook(\"애플\", \"MacBook Pro 13\", \"M2\", 24, 2048)\n",
        "notebook.model\n"
      ],
      "metadata": {
        "colab": {
          "base_uri": "https://localhost:8080/",
          "height": 35
        },
        "id": "sYbOTjToT8Zm",
        "outputId": "41f4d2bf-942a-4073-bfca-4f5a0d98bcfa"
      },
      "execution_count": 98,
      "outputs": [
        {
          "output_type": "execute_result",
          "data": {
            "text/plain": [
              "'MacBook Pro 13'"
            ],
            "application/vnd.google.colaboratory.intrinsic+json": {
              "type": "string"
            }
          },
          "metadata": {},
          "execution_count": 98
        }
      ]
    },
    {
      "cell_type": "code",
      "source": [
        "# 해당 노트북의 모델을 출력해주는 함수를 구현하시오.\n",
        "# 해당 노트북의 운영체제가 UNIX 계열 운영체제인지 아닌지 확인하는 함수를 구현하시오.\n",
        "\n",
        "class Notebook():\n",
        "  def __init__(self, maunfacture, model, cpu, ram, ssd):\n",
        "    self.maunfacture = maunfacture\n",
        "    self.model = model\n",
        "    self.cpu = cpu\n",
        "    self.ram = ram\n",
        "    self.ssd = ssd\n",
        "  \n",
        "  def print_model(self):\n",
        "    print(f\"This Notebook is {self.model} model.\")\n",
        "\n",
        "nb = Notebook(\"LG\", \"Gram 17\", \"intel i7\", 16, 512)\n",
        "nb.print_model()\n",
        "\n",
        "nb2 = Notebook(\"삼성\", \"갤럭시 노트북\", \"intel i9\", 64, 2048)\n",
        "nb2.print_model()"
      ],
      "metadata": {
        "colab": {
          "base_uri": "https://localhost:8080/"
        },
        "id": "H2T5Dl-6rcjQ",
        "outputId": "d4d03c94-3e27-417f-a0ba-69132ef09a53"
      },
      "execution_count": 99,
      "outputs": [
        {
          "output_type": "stream",
          "name": "stdout",
          "text": [
            "This Notebook is Gram 17 model.\n",
            "This Notebook is 갤럭시 노트북 model.\n"
          ]
        }
      ]
    },
    {
      "cell_type": "code",
      "source": [
        "# 해당 노트북의 모델을 출력해주는 함수를 구현하시오.\n",
        "# 해당 노트북의 운영체제가 UNIX 계열 운영체제인지 아닌지 확인하는 함수를 구현하시오.\n",
        "\n",
        "class Notebook():\n",
        "  def __init__(self, maunfacture, model, cpu, ram, ssd, os):\n",
        "    self.maunfacture = maunfacture\n",
        "    self.model = model\n",
        "    self.cpu = cpu\n",
        "    self.ram = ram\n",
        "    self.ssd = ssd\n",
        "    self.os = os\n",
        "    \n",
        "  def print_model(self):\n",
        "    print(f\"This Notebook is {self.model} model.\")\n",
        "  \n",
        "  def is_UNIX(self):\n",
        "    UNIX = [\"macOS\", \"Ubuntu\", \"iOS\", \"Android\"]\n",
        "    if self.os in UNIX:\n",
        "      return True\n",
        "    else:\n",
        "      return False\n",
        "      \n",
        "\n",
        "nb01 = Notebook(\"삼성\", \"갤럭시 노트북\", \"i9\", 64, 512, \"macOS\")\n",
        "nb02 = Notebook(\"애플\", \"맥북 14\", \"M2\", 32, 512, \"window\")\n",
        "\n",
        "print(nb01.is_UNIX())\n",
        "print(nb02.is_UNIX())\n",
        "  "
      ],
      "metadata": {
        "colab": {
          "base_uri": "https://localhost:8080/"
        },
        "id": "xWnbhX1vuEtg",
        "outputId": "959d145c-6acd-46b4-e3d9-fbfdd7bb0d77"
      },
      "execution_count": 103,
      "outputs": [
        {
          "output_type": "stream",
          "name": "stdout",
          "text": [
            "True\n",
            "False\n"
          ]
        }
      ]
    },
    {
      "cell_type": "markdown",
      "source": [
        "#### 클래스 상속 (Class inheritance)\n",
        "\n",
        "- Notebook들은 제조사마다 다른 모델이 있습니다.\n",
        "- 해당 모델들은 Notebook이지만, 모델마다 다른 특징을 가지고 있습니다.\n",
        "- 노트북의 개념을 그대로 이어받아, 모델마다 다른 개념을 Class로 구현해 보시오."
      ],
      "metadata": {
        "id": "1qcN-SiT2euM"
      }
    },
    {
      "cell_type": "code",
      "source": [
        "# notebook class를 상속 받아서 새로운 MacBook class를 정의\n",
        "class MacBook(Notebook):\n",
        "  def __init__(self, model, release_date, display_size, cpu, ram, ssd, os):\n",
        "    self.model = model\n",
        "    self.release_date = release_date\n",
        "    self.display_size = display_size\n",
        "    self.cpu = cpu\n",
        "    self.ram = ram\n",
        "    self.ssd = ssd\n",
        "    self.os = os\n",
        "\n",
        "macbook = MacBook(\"Macbook Pro\", \"2022\", \"16\", \"M1 Max\", 32, 1024, \"macOS\")\n",
        "macbook.print_model()\n",
        "print(macbook.is_UNIX())"
      ],
      "metadata": {
        "colab": {
          "base_uri": "https://localhost:8080/"
        },
        "id": "XiZkE8cO2yes",
        "outputId": "05967be8-8fc7-4678-b829-ebe87f262ac8"
      },
      "execution_count": 104,
      "outputs": [
        {
          "output_type": "stream",
          "name": "stdout",
          "text": [
            "This Notebook is Macbook Pro model.\n",
            "True\n"
          ]
        }
      ]
    },
    {
      "cell_type": "code",
      "source": [
        "# notebook class 상속 받아서 새로운 Lenovo class를 정의\n",
        "# yoga\n",
        "\n",
        "class Lenovo(Notebook):\n",
        "  def __init__(self, model, release_date, display_size, cpu, ram, ssd, os):\n",
        "    self.model = model\n",
        "    self.display_size = display_size\n",
        "    self.cpu = cpu\n",
        "    self.ram = ram\n",
        "    self.ssd = ssd\n",
        "    self.os = os\n",
        "  \n",
        "yoga = Lenovo(\"Lenovo yoga Slim7 Pro\", \"2022\", \"14\", \"i7\", 32, 1024, \"window\")\n",
        "\n",
        "print(yoga.is_UNIX())"
      ],
      "metadata": {
        "colab": {
          "base_uri": "https://localhost:8080/"
        },
        "id": "azVkmxP-4YVi",
        "outputId": "47701bb9-1c7e-4d8b-a3f2-440ea3c5cd03"
      },
      "execution_count": 105,
      "outputs": [
        {
          "output_type": "stream",
          "name": "stdout",
          "text": [
            "False\n"
          ]
        }
      ]
    }
  ]
}