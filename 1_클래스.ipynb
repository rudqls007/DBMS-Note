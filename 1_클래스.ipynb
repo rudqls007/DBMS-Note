{
  "nbformat": 4,
  "nbformat_minor": 0,
  "metadata": {
    "colab": {
      "provenance": [],
      "authorship_tag": "ABX9TyPxky8TgAATKHKxt5pyctfU",
      "include_colab_link": true
    },
    "kernelspec": {
      "name": "python3",
      "display_name": "Python 3"
    },
    "language_info": {
      "name": "python"
    }
  },
  "cells": [
    {
      "cell_type": "markdown",
      "metadata": {
        "id": "view-in-github",
        "colab_type": "text"
      },
      "source": [
        "<a href=\"https://colab.research.google.com/github/rudqls007/DBMS-Note/blob/master/1_%ED%81%B4%EB%9E%98%EC%8A%A4.ipynb\" target=\"_parent\"><img src=\"https://colab.research.google.com/assets/colab-badge.svg\" alt=\"Open In Colab\"/></a>"
      ]
    },
    {
      "cell_type": "markdown",
      "source": [
        "### 목표\n",
        "1. 클래스 리뷰"
      ],
      "metadata": {
        "id": "WQloqIJyOnCz"
      }
    },
    {
      "cell_type": "markdown",
      "source": [
        "#### __init__(self)\n",
        "+ 생성자. 클래스 인스턴스가 생성될 때 호출된다.\n",
        "+ self인자는 항상 첫번째에 오며 자기 자신을 가리킨다.\n",
        "+ 이름이 꼭 self일 필요는 없지만, 관례적으로 self로 사용하고있다.\n",
        "\n",
        "+ 생성자에서는 해당 클래스가 다루는 데이터를 정의\n",
        "  - 이 데이터를 멤버변수 (member varialbe) 또는 속성(attribute)라고 한다."
      ],
      "metadata": {
        "id": "DpbPbNPpPUh2"
      }
    },
    {
      "cell_type": "markdown",
      "source": [
        "#### **self**\n",
        "- 파이썬의 method는 항상 첫번째 인자로 self를 전달한다.\n",
        "- self는 현재 해당 메서드가 호출되는 객체 자신을 가리킨다.\n",
        "- C++ / C#, Java의 this에 해당\n",
        "- 이름이 self일 필요는 없으나, 위치는 항상 맨 처음의 parameter이며 관례적으로 self로 사용한다."
      ],
      "metadata": {
        "id": "-EufMVxHQbLY"
      }
    },
    {
      "cell_type": "markdown",
      "source": [
        "#### **special method**\n",
        "- __로 시작 __로 끝나는 특수 함수\n",
        "- 오버라이딩이 가능한 험수 목록은 아래 링크에서 참조\n",
        "  -  https://docs.python.org/3/reference/datamodel.html"
      ],
      "metadata": {
        "id": "ZWDzMNhmRT3a"
      }
    },
    {
      "cell_type": "markdown",
      "source": [
        "### Python Class\n",
        "- Python은 OOP 패러다임으로 구현된 언어이다.\n"
      ],
      "metadata": {
        "id": "afzlu7RSSHyw"
      }
    },
    {
      "cell_type": "markdown",
      "source": [
        "# Notebook이라는 사물을 클래스로 정의합니다."
      ],
      "metadata": {
        "id": "rHMk8tleSncY"
      }
    },
    {
      "cell_type": "code",
      "source": [
        "# Notebook 이라는 사물을 클래스로 정의\n",
        "class Notebook():\n",
        "  def __init__(self, maunfacture, model, cpu, ram, ssd):\n",
        "    self.maunfacture = maunfacture\n",
        "    self.model = model\n",
        "    self.cpu = cpu\n",
        "    self.ram = ram\n",
        "    self.ssd = ssd\n",
        "    "
      ],
      "metadata": {
        "id": "sAi0W7tuSyis"
      },
      "execution_count": 1,
      "outputs": []
    },
    {
      "cell_type": "code",
      "source": [
        "# 클래스의 생성자(constructor)를 불러옴\n",
        "notebook = Notebook(\"애플\", \"MacBook Pro 13\", \"M2\", 24, 2048)\n",
        "notebook.model\n"
      ],
      "metadata": {
        "colab": {
          "base_uri": "https://localhost:8080/",
          "height": 35
        },
        "id": "sYbOTjToT8Zm",
        "outputId": "6c2fb049-d2d2-4d8c-9a77-892d9568cbdb"
      },
      "execution_count": 2,
      "outputs": [
        {
          "output_type": "execute_result",
          "data": {
            "text/plain": [
              "'MacBook Pro 13'"
            ],
            "application/vnd.google.colaboratory.intrinsic+json": {
              "type": "string"
            }
          },
          "metadata": {},
          "execution_count": 2
        }
      ]
    }
  ]
}